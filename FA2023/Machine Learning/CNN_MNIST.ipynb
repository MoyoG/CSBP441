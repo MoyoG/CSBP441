{
 "cells": [
  {
   "cell_type": "code",
   "execution_count": 1,
   "id": "128b2ad9",
   "metadata": {},
   "outputs": [],
   "source": [
    "import torch\n",
    "import torch.nn as nn\n",
    "import torch.nn.functional as F\n",
    "import torch.optim as optim\n",
    "from torchvision import datasets, transforms\n",
    "from torch.optim.lr_scheduler import StepLR\n",
    "import numpy as np"
   ]
  },
  {
   "cell_type": "code",
   "execution_count": 2,
   "id": "9478c669",
   "metadata": {},
   "outputs": [],
   "source": [
    "class Net(nn.Module):\n",
    "    def __init__(self):\n",
    "        super(Net, self).__init__()\n",
    "        self.conv1 = nn.Conv2d(1, 36, 3, 1)\n",
    "        self.conv2 = nn.Conv2d(36, 64, 3, 1)\n",
    "        self.dropout1 = nn.Dropout(0.25)\n",
    "        self.dropout2 = nn.Dropout(0.5)\n",
    "        self.fc1 = nn.Linear(9216, 144)\n",
    "        self.fc2 = nn.Linear(144, 10)\n",
    "\n",
    "    def forward(self, x):\n",
    "        x = self.conv1(x)\n",
    "        x = F.relu(x)\n",
    "        x = self.conv2(x)\n",
    "        x = F.relu(x)\n",
    "        x = F.max_pool2d(x, 2)\n",
    "        x = self.dropout1(x)\n",
    "        x = torch.flatten(x, 1)\n",
    "        x = self.fc1(x)\n",
    "        x = F.relu(x)\n",
    "        x = self.dropout2(x)\n",
    "        x = self.fc2(x)\n",
    "        return F.log_softmax(x, dim=1)"

   ]
  },
  {
   "cell_type": "code",
   "execution_count": 7,
   "id": "d5194ac8",
   "metadata": {},
   "outputs": [],
   "source": [
    "# Load the MNIST dataset and apply transformations\n",
    "transform = transforms.Compose([transforms.ToTensor(), transforms.Normalize((0.1307,), (0.3081,))])\n",
    "train_loader = torch.utils.data.DataLoader(datasets.MNIST('./data', train=True, download=True, transform=transform), batch_size=64, shuffle=True)\n",
    "test_loader = torch.utils.data.DataLoader(datasets.MNIST('./data', train=False, transform=transform), batch_size=64)\n"
   ]
  },
  {
   "cell_type": "code",
   "execution_count": 8,
   "id": "4884deb4",
   "metadata": {},
   "outputs": [],
   "source": [
    "# Instantiate the model\n",
    "model = Net()\n"
   ]
  },
  {
   "cell_type": "code",
   "execution_count": 9,
   "id": "ca2838cd",
   "metadata": {},
   "outputs": [],
   "source": [
    "# Define the optimizer and loss function\n",
    "optimizer = optim.Adam(model.parameters(), lr=0.001)\n",
    "criterion = nn.CrossEntropyLoss()\n"
   ]
  },
  {
   "cell_type": "code",
   "execution_count": 10,
   "id": "dda2a3fd",
   "metadata": {},
   "outputs": [],
   "source": [
    "# Training loop\n",
    "def train(model, train_loader, optimizer, criterion, epoch):\n",
    "    model.train()\n",
    "    for batch_idx, (data, target) in enumerate(train_loader):\n",
    "        optimizer.zero_grad()\n",
    "        output = model(data)\n",
    "        loss = criterion(output, target)\n",
    "        loss.backward()\n",
    "        optimizer.step()\n",
    "        if batch_idx % 100 == 0:\n",
    "            print('Train Epoch: {} [{}/{} ({:.0f}%)]\\tLoss: {:.6f}'.format(\n",
    "                epoch, batch_idx * len(data), len(train_loader.dataset),\n",
    "                100. * batch_idx / len(train_loader), loss.item()))\n"
   ]
  },
  {
   "cell_type": "code",
   "execution_count": 11,
   "id": "3da1e143",
   "metadata": {},
   "outputs": [],
   "source": [
    "# Evaluation function\n",
    "def test(model, test_loader):\n",
    "    model.eval()\n",
    "    test_loss = 0\n",
    "    correct = 0\n",
    "    with torch.no_grad():\n",
    "        for data, target in test_loader:\n",
    "            output = model(data)\n",
    "            test_loss += criterion(output, target).item()\n",
    "            pred = output.argmax(dim=1, keepdim=True)\n",
    "            correct += pred.eq(target.view_as(pred)).sum().item()\n",
    "\n",
    "    test_loss /= len(test_loader.dataset)\n",
    "    accuracy = 100. * correct / len(test_loader.dataset)\n",
    "    print('\\nTest set: Average loss: {:.4f}, Accuracy: {}/{} ({:.2f}%)\\n'.format(\n",
    "        test_loss, correct, len(test_loader.dataset), accuracy))\n"
   ]
  },
  {
   "cell_type": "code",
   "execution_count": 12,
   "id": "ebdbc9c2",
   "metadata": {},
   "outputs": [
    {
     "name": "stdout",
     "output_type": "stream",
     "text": [
      "Train Epoch: 1 [0/60000 (0%)]\tLoss: 2.310257\n",
      "Train Epoch: 1 [6400/60000 (11%)]\tLoss: 0.219119\n",
      "Train Epoch: 1 [12800/60000 (21%)]\tLoss: 0.264288\n",
      "Train Epoch: 1 [19200/60000 (32%)]\tLoss: 0.272118\n",
      "Train Epoch: 1 [25600/60000 (43%)]\tLoss: 0.036874\n",
      "Train Epoch: 1 [32000/60000 (53%)]\tLoss: 0.072236\n",
      "Train Epoch: 1 [38400/60000 (64%)]\tLoss: 0.106787\n",
      "Train Epoch: 1 [44800/60000 (75%)]\tLoss: 0.066390\n",
      "Train Epoch: 1 [51200/60000 (85%)]\tLoss: 0.164813\n",
      "Train Epoch: 1 [57600/60000 (96%)]\tLoss: 0.164826\n",
      "\n",
      "Test set: Average loss: 0.0007, Accuracy: 9865/10000 (98.65%)\n",
      "\n",
      "Train Epoch: 2 [0/60000 (0%)]\tLoss: 0.034937\n",
      "Train Epoch: 2 [6400/60000 (11%)]\tLoss: 0.013432\n",
      "Train Epoch: 2 [12800/60000 (21%)]\tLoss: 0.077847\n",
      "Train Epoch: 2 [19200/60000 (32%)]\tLoss: 0.178972\n",
      "Train Epoch: 2 [25600/60000 (43%)]\tLoss: 0.100792\n",
      "Train Epoch: 2 [32000/60000 (53%)]\tLoss: 0.048615\n",
      "Train Epoch: 2 [38400/60000 (64%)]\tLoss: 0.080254\n",
      "Train Epoch: 2 [44800/60000 (75%)]\tLoss: 0.039996\n",
      "Train Epoch: 2 [51200/60000 (85%)]\tLoss: 0.025208\n",
      "Train Epoch: 2 [57600/60000 (96%)]\tLoss: 0.120674\n",
      "\n",
      "Test set: Average loss: 0.0006, Accuracy: 9879/10000 (98.79%)\n",
      "\n",
      "Train Epoch: 3 [0/60000 (0%)]\tLoss: 0.035185\n",
      "Train Epoch: 3 [6400/60000 (11%)]\tLoss: 0.066536\n",
      "Train Epoch: 3 [12800/60000 (21%)]\tLoss: 0.177961\n",
      "Train Epoch: 3 [19200/60000 (32%)]\tLoss: 0.017597\n",
      "Train Epoch: 3 [25600/60000 (43%)]\tLoss: 0.015826\n",
      "Train Epoch: 3 [32000/60000 (53%)]\tLoss: 0.017100\n",
      "Train Epoch: 3 [38400/60000 (64%)]\tLoss: 0.076373\n",
      "Train Epoch: 3 [44800/60000 (75%)]\tLoss: 0.042137\n",
      "Train Epoch: 3 [51200/60000 (85%)]\tLoss: 0.023638\n",
      "Train Epoch: 3 [57600/60000 (96%)]\tLoss: 0.026604\n",
      "\n",
      "Test set: Average loss: 0.0005, Accuracy: 9898/10000 (98.98%)\n",
      "\n",
      "Train Epoch: 4 [0/60000 (0%)]\tLoss: 0.020256\n",
      "Train Epoch: 4 [6400/60000 (11%)]\tLoss: 0.041996\n",
      "Train Epoch: 4 [12800/60000 (21%)]\tLoss: 0.032264\n",
      "Train Epoch: 4 [19200/60000 (32%)]\tLoss: 0.086865\n",
      "Train Epoch: 4 [25600/60000 (43%)]\tLoss: 0.048724\n",
      "Train Epoch: 4 [32000/60000 (53%)]\tLoss: 0.046421\n",
      "Train Epoch: 4 [38400/60000 (64%)]\tLoss: 0.071674\n",
      "Train Epoch: 4 [44800/60000 (75%)]\tLoss: 0.013240\n",
      "Train Epoch: 4 [51200/60000 (85%)]\tLoss: 0.097643\n",
      "Train Epoch: 4 [57600/60000 (96%)]\tLoss: 0.003739\n",
      "\n",
      "Test set: Average loss: 0.0005, Accuracy: 9906/10000 (99.06%)\n",
      "\n",
      "Train Epoch: 5 [0/60000 (0%)]\tLoss: 0.017735\n",
      "Train Epoch: 5 [6400/60000 (11%)]\tLoss: 0.024625\n",
      "Train Epoch: 5 [12800/60000 (21%)]\tLoss: 0.057965\n",
      "Train Epoch: 5 [19200/60000 (32%)]\tLoss: 0.045515\n",
      "Train Epoch: 5 [25600/60000 (43%)]\tLoss: 0.062572\n",
      "Train Epoch: 5 [32000/60000 (53%)]\tLoss: 0.107763\n",
      "Train Epoch: 5 [38400/60000 (64%)]\tLoss: 0.027382\n",
      "Train Epoch: 5 [44800/60000 (75%)]\tLoss: 0.005077\n",
      "Train Epoch: 5 [51200/60000 (85%)]\tLoss: 0.031802\n",
      "Train Epoch: 5 [57600/60000 (96%)]\tLoss: 0.098695\n",
      "\n",
      "Test set: Average loss: 0.0005, Accuracy: 9907/10000 (99.07%)\n",
      "\n",
      "Train Epoch: 6 [0/60000 (0%)]\tLoss: 0.049761\n",
      "Train Epoch: 6 [6400/60000 (11%)]\tLoss: 0.006235\n",
      "Train Epoch: 6 [12800/60000 (21%)]\tLoss: 0.003667\n",
      "Train Epoch: 6 [19200/60000 (32%)]\tLoss: 0.003898\n",
      "Train Epoch: 6 [25600/60000 (43%)]\tLoss: 0.077249\n",
      "Train Epoch: 6 [32000/60000 (53%)]\tLoss: 0.054085\n",
      "Train Epoch: 6 [38400/60000 (64%)]\tLoss: 0.071337\n",
      "Train Epoch: 6 [44800/60000 (75%)]\tLoss: 0.013217\n",
      "Train Epoch: 6 [51200/60000 (85%)]\tLoss: 0.075076\n",
      "Train Epoch: 6 [57600/60000 (96%)]\tLoss: 0.056800\n",
      "\n",
      "Test set: Average loss: 0.0006, Accuracy: 9897/10000 (98.97%)\n",
      "\n",
      "Train Epoch: 7 [0/60000 (0%)]\tLoss: 0.040846\n",
      "Train Epoch: 7 [6400/60000 (11%)]\tLoss: 0.021522\n",
      "Train Epoch: 7 [12800/60000 (21%)]\tLoss: 0.015116\n",
      "Train Epoch: 7 [19200/60000 (32%)]\tLoss: 0.005816\n",
      "Train Epoch: 7 [25600/60000 (43%)]\tLoss: 0.129519\n",
      "Train Epoch: 7 [32000/60000 (53%)]\tLoss: 0.036128\n",
      "Train Epoch: 7 [38400/60000 (64%)]\tLoss: 0.046765\n",
      "Train Epoch: 7 [44800/60000 (75%)]\tLoss: 0.056193\n",
      "Train Epoch: 7 [51200/60000 (85%)]\tLoss: 0.008090\n",
      "Train Epoch: 7 [57600/60000 (96%)]\tLoss: 0.020353\n",
      "\n",
      "Test set: Average loss: 0.0005, Accuracy: 9912/10000 (99.12%)\n",
      "\n",
      "Train Epoch: 8 [0/60000 (0%)]\tLoss: 0.012886\n",
      "Train Epoch: 8 [6400/60000 (11%)]\tLoss: 0.016665\n",
      "Train Epoch: 8 [12800/60000 (21%)]\tLoss: 0.002497\n",
      "Train Epoch: 8 [19200/60000 (32%)]\tLoss: 0.077456\n",
      "Train Epoch: 8 [25600/60000 (43%)]\tLoss: 0.027505\n",
      "Train Epoch: 8 [32000/60000 (53%)]\tLoss: 0.012061\n",
      "Train Epoch: 8 [38400/60000 (64%)]\tLoss: 0.094137\n",
      "Train Epoch: 8 [44800/60000 (75%)]\tLoss: 0.060922\n",
      "Train Epoch: 8 [51200/60000 (85%)]\tLoss: 0.001891\n",
      "Train Epoch: 8 [57600/60000 (96%)]\tLoss: 0.005596\n",
      "\n",
      "Test set: Average loss: 0.0005, Accuracy: 9910/10000 (99.10%)\n",
      "\n",
      "Train Epoch: 9 [0/60000 (0%)]\tLoss: 0.002213\n",
      "Train Epoch: 9 [6400/60000 (11%)]\tLoss: 0.015359\n",
      "Train Epoch: 9 [12800/60000 (21%)]\tLoss: 0.003128\n",
      "Train Epoch: 9 [19200/60000 (32%)]\tLoss: 0.004925\n",
      "Train Epoch: 9 [25600/60000 (43%)]\tLoss: 0.048605\n",
      "Train Epoch: 9 [32000/60000 (53%)]\tLoss: 0.010303\n",
      "Train Epoch: 9 [38400/60000 (64%)]\tLoss: 0.112436\n",
      "Train Epoch: 9 [44800/60000 (75%)]\tLoss: 0.002164\n",
      "Train Epoch: 9 [51200/60000 (85%)]\tLoss: 0.004026\n",
      "Train Epoch: 9 [57600/60000 (96%)]\tLoss: 0.001350\n",
      "\n",
      "Test set: Average loss: 0.0004, Accuracy: 9923/10000 (99.23%)\n",
      "\n",
      "Train Epoch: 10 [0/60000 (0%)]\tLoss: 0.029626\n",
      "Train Epoch: 10 [6400/60000 (11%)]\tLoss: 0.016009\n",
      "Train Epoch: 10 [12800/60000 (21%)]\tLoss: 0.004039\n",
      "Train Epoch: 10 [19200/60000 (32%)]\tLoss: 0.001084\n",
      "Train Epoch: 10 [25600/60000 (43%)]\tLoss: 0.021533\n",
      "Train Epoch: 10 [32000/60000 (53%)]\tLoss: 0.065806\n",
      "Train Epoch: 10 [38400/60000 (64%)]\tLoss: 0.005596\n",
      "Train Epoch: 10 [44800/60000 (75%)]\tLoss: 0.014056\n",
      "Train Epoch: 10 [51200/60000 (85%)]\tLoss: 0.097317\n",
      "Train Epoch: 10 [57600/60000 (96%)]\tLoss: 0.000546\n",
      "\n",
      "Test set: Average loss: 0.0005, Accuracy: 9919/10000 (99.19%)\n",
      "\n"
     ]
    }
   ],
   "source": [
    "# Training and evaluation loop\n",
    "epochs = 10\n",
    "for epoch in range(1, epochs + 1):\n",
    "    train(model, train_loader, optimizer, criterion, epoch)\n",
    "    test(model, test_loader)\n",
    "torch.save(model.state_dict(), 'mnist_cnn_model.pth')"
   ]
  },
  {
   "cell_type": "code",
   "execution_count": 14,
   "id": "d17602d0",
   "metadata": {},
   "outputs": [],
   "source": [
    "import cv2\n",
    "import matplotlib.pyplot as plt"
   ]
  },
  {
   "cell_type": "code",
   "execution_count": 15,
   "id": "4700722c",
   "metadata": {},
   "outputs": [
    {
     "data": {
      "text/plain": [
       "<All keys matched successfully>"
      ]
     },
     "execution_count": 15,
     "metadata": {},
     "output_type": "execute_result"
    }
   ],
   "source": [
    "# Create an instance of 'Net' and move it to the same device as the original model\n",
    "loaded_net = Net().to(device)\n",
    "\n",
    "# Load the saved state dictionary\n",
    "checkpoint = torch.load('mnist_cnn_model.pth')\n",
    "\n",
    "# Load the state dictionary into 'Net'\n",
    "loaded_net.load_state_dict(checkpoint)"
   ]
  },
  {
   "cell_type": "code",
   "execution_count": 16,
   "id": "6e8ae92f",
   "metadata": {},
   "outputs": [],
   "source": [
    "classes = ('0', '1', '2', '3','4', '5', '6', '7', '8', '9')"
   ]
  },
  {
   "cell_type": "code",
   "execution_count": 17,
   "id": "07bed29c",
   "metadata": {},
   "outputs": [
    {
     "data": {
      "image/png": "[encoded data removed]",
      "text/plain": [
       "<Figure size 640x480 with 1 Axes>"
      ]
     },
     "metadata": {},
     "output_type": "display_data"
    }
   ],
   "source": [
    "input_image = cv2.imread(\"img_1.jpg\")\n",
    "input_image = cv2.cvtColor(input_image, cv2.COLOR_BGR2GRAY)\n",
    "transform = transforms.Compose([\n",
    "    transforms.ToPILImage(),\n",
    "    transforms.Resize((28, 28)),  # Resize the image to match the model's input size\n",
    "    transforms.ToTensor(),\n",
    "])\n",
    "input_image = transform(input_image)\n",
    "input_image = input_image.unsqueeze(0)  # Add a batch dimension\n",
    "input_image = input_image.to(device)# Move the input to the GPU if available\n",
    "\n",
    "with torch.no_grad():\n",
    "    outputs = loaded_net(input_image)  # Unsqueeze to add batch dimension\n",
    "_, predicted = torch.max(outputs, 1)\n",
    "\n",
    "predicted_class = classes[predicted.item()]\n",
    "\n",
    "# Get the prediction confidence\n",
    "confidence = torch.softmax(outputs, dim=1)[0][predicted.item()].item()\n",
    "\n",
    "# Show the image and prediction\n",
    "plt.imshow(input_image.squeeze().cpu().numpy(), cmap='gray')\n",
    "plt.title(f'Predicted Class: {predicted_class}\\nConfidence: {confidence:.2f}')\n",
    "plt.axis('off')\n",
    "plt.show()"
   ]
  },
  {
   "cell_type": "code",
   "execution_count": 18,
   "id": "cfeab3eb",
   "metadata": {},
   "outputs": [
    {
     "data": {
      "image/png": "[encoded data removed]",
      "text/plain": [
       "<Figure size 640x480 with 1 Axes>"
      ]
     },
     "metadata": {},
     "output_type": "display_data"
    }
   ],
   "source": [
    "input_image = cv2.imread(\"img_2.jpg\")\n",
    "input_image = cv2.cvtColor(input_image, cv2.COLOR_BGR2GRAY)\n",
    "transform = transforms.Compose([\n",
    "    transforms.ToPILImage(),\n",
    "    transforms.Resize((28, 28)),  # Resize the image to match the model's input size\n",
    "    transforms.ToTensor(),\n",
    "])\n",
    "\n",
    "input_image = transform(input_image)\n",
    "input_image = input_image.unsqueeze(0)  # Add a batch dimension\n",
    "input_image = input_image.to(device)# Move the input to the GPU if available\n",
    "\n",
    "with torch.no_grad():\n",
    "    outputs = loaded_net(input_image)  # Unsqueeze to add batch dimension\n",
    "_, predicted = torch.max(outputs, 1)\n",
    "\n",
    "predicted_class = classes[predicted.item()]\n",
    "\n",
    "# Get the prediction confidence\n",
    "confidence = torch.softmax(outputs, dim=1)[0][predicted.item()].item()\n",
    "\n",
    "# Show the image and prediction\n",
    "plt.imshow(input_image.squeeze().cpu().numpy(), cmap='gray')\n",
    "plt.title(f'Predicted Class: {predicted_class}\\nConfidence: {confidence:.2f}')\n",
    "plt.axis('off')\n",
    "plt.show()"
   ]
  },
  {
   "cell_type": "code",
   "execution_count": 19,
   "id": "cfb3554f",
   "metadata": {},
   "outputs": [
    {
     "data": {
      "image/png": "[encoded data removed]",
      "text/plain": [
       "<Figure size 640x480 with 1 Axes>"
      ]
     },
     "metadata": {},
     "output_type": "display_data"
    }
   ],
   "source": [
    "input_image = cv2.imread(\"img_3.jpg\")\n",
    "input_image = cv2.cvtColor(input_image, cv2.COLOR_BGR2GRAY)\n",
    "transform = transforms.Compose([\n",
    "    transforms.ToPILImage(),\n",
    "    transforms.Resize((28, 28)),  # Resize the image to match the model's input size\n",
    "    transforms.ToTensor(),\n",
    "])\n",
    "input_image = transform(input_image)\n",
    "input_image = input_image.unsqueeze(0)  # Add a batch dimension\n",
    "input_image = input_image.to(device)# Move the input to the GPU if available\n",
    "\n",
    "with torch.no_grad():\n",
    "    outputs = loaded_net(input_image)  # Unsqueeze to add batch dimension\n",
    "_, predicted = torch.max(outputs, 1)\n",
    "\n",
    "predicted_class = classes[predicted.item()]\n",
    "\n",
    "# Get the prediction confidence\n",
    "confidence = torch.softmax(outputs, dim=1)[0][predicted.item()].item()\n",
    "\n",
    "# Show the image and prediction\n",
    "plt.imshow(input_image.squeeze().cpu().numpy(), cmap='gray')\n",
    "plt.title(f'Predicted Class: {predicted_class}\\nConfidence: {confidence:.2f}')\n",
    "plt.axis('off')\n",
    "plt.show()"
   ]
  },
  {
   "cell_type": "code",
   "execution_count": null,
   "id": "3774f360",
   "metadata": {},
   "outputs": [],
   "source": []
  }
 ],
 "metadata": {
  "kernelspec": {
   "display_name": "Python 3 (ipykernel)",
   "language": "python",
   "name": "python3"
  },
  "language_info": {
   "codemirror_mode": {
    "name": "ipython",
    "version": 3
   },
   "file_extension": ".py",
   "mimetype": "text/x-python",
   "name": "python",
   "nbconvert_exporter": "python",
   "pygments_lexer": "ipython3",
   "version": "3.8.10"
  }
 },
 "nbformat": 4,
 "nbformat_minor": 5
}
