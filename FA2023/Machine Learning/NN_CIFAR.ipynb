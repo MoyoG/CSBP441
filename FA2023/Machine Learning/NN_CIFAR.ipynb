{
 "cells": [
  {
   "cell_type": "code",
   "execution_count": 1,
   "id": "9fbaadf2",
   "metadata": {},
   "outputs": [],
   "source": [
    "import torch\n",
    "import torch.nn as nn\n",
    "import torch.optim as optim\n",
    "import torchvision\n",
    "import torchvision.transforms as transforms"
   ]
  },
  {
   "cell_type": "code",
   "execution_count": 2,
   "id": "853598bc",
   "metadata": {},
   "outputs": [],
   "source": [
    "device = torch.device(\"cuda:0\" if torch.cuda.is_available() else \"cpu\")"
   ]
  },
  {
   "cell_type": "code",
   "execution_count": 3,
   "id": "9639b6d5",
   "metadata": {},
   "outputs": [],
   "source": [
    "# Define a transform to normalize the data\n",
    "transform = transforms.Compose(\n",
    "    [transforms.ToTensor(),\n",
    "     transforms.Normalize((0.5, 0.5, 0.5), (0.5, 0.5, 0.5))])"
   ]
  },
  {
   "cell_type": "code",
   "execution_count": 4,
   "id": "b87bfdbb",
   "metadata": {},
   "outputs": [
    {
     "name": "stdout",
     "output_type": "stream",
     "text": [
      "Downloading https://www.cs.toronto.edu/~kriz/cifar-10-python.tar.gz to ./cifar/cifar-10-python.tar.gz\n"
     ]
    },
    {
     "data": {
      "application/vnd.jupyter.widget-view+json": {
       "model_id": "4e23c9c2e48c48f3bc99ed57efc102ba",
       "version_major": 2,
       "version_minor": 0
      },
      "text/plain": [
       "  0%|          | 0/170498071 [00:00<?, ?it/s]"
      ]
     },
     "metadata": {},
     "output_type": "display_data"
    },
    {
     "name": "stdout",
     "output_type": "stream",
     "text": [
      "Extracting ./cifar/cifar-10-python.tar.gz to ./cifar\n",
      "Files already downloaded and verified\n"
     ]
    }
   ],
   "source": [
    "# Load CIFAR-10 dataset\n",
    "trainset = torchvision.datasets.CIFAR10(root='./cifar', train=True,\n",
    "                                        download=True, transform=transform)\n",
    "trainloader = torch.utils.data.DataLoader(trainset, batch_size=4,\n",
    "                                          shuffle=True, num_workers=2)\n",
    "\n",
    "testset = torchvision.datasets.CIFAR10(root='./cifar', train=False,\n",
    "                                       download=True, transform=transform)\n",
    "testloader = torch.utils.data.DataLoader(testset, batch_size=4,\n",
    "                                         shuffle=False, num_workers=2)\n",
    "classes = ('plane', 'car', 'bird', 'cat',\n",
    "           'deer', 'dog', 'frog', 'horse', 'ship', 'truck')"
   ]
  },
  {
   "cell_type": "code",
   "execution_count": 5,
   "id": "785e6ac8",
   "metadata": {},
   "outputs": [],
   "source": [
    "# Define the neural network architecture\n",
    "class Net(nn.Module):\n",
    "    def __init__(self):\n",
    "        super(Net, self).__init__()\n",
    "        self.fc1 = nn.Linear(32 * 32 * 3, 512)  # Input size: 32x32x3 (CIFAR-10 images)\n",
    "        self.fc2 = nn.Linear(512, 256)\n",
    "        self.fc3 = nn.Linear(256, 10)  # Output size: 10 classes\n",
    "\n",
    "    def forward(self, x):\n",
    "        x = x.view(-1, 32 * 32 * 3)  # Flatten the input\n",
    "        x = torch.relu(self.fc1(x))\n",
    "        x = torch.relu(self.fc2(x))\n",
    "        x = self.fc3(x)\n",
    "        return x\n",
    "\n",
    "net = Net().to(device)"
   ]
  },
  {
   "cell_type": "code",
   "execution_count": 6,
   "id": "cebb82ab",
   "metadata": {},
   "outputs": [],
   "source": [
    "# Define the loss function and optimizer\n",
    "criterion = nn.CrossEntropyLoss()\n",
    "optimizer = optim.SGD(net.parameters(), lr=0.001, momentum=0.9)\n"
   ]
  },
  {
   "cell_type": "code",
   "execution_count": 7,
   "id": "a1f8b890",
   "metadata": {},
   "outputs": [
    {
     "name": "stdout",
     "output_type": "stream",
     "text": [
      "[1,  2000] loss: 1.913\n",
      "[1,  4000] loss: 1.700\n",
      "[1,  6000] loss: 1.630\n",
      "[1,  8000] loss: 1.586\n",
      "[1, 10000] loss: 1.563\n",
      "[1, 12000] loss: 1.536\n",
      "[2,  2000] loss: 1.441\n",
      "[2,  4000] loss: 1.431\n",
      "[2,  6000] loss: 1.433\n",
      "[2,  8000] loss: 1.392\n",
      "[2, 10000] loss: 1.420\n",
      "[2, 12000] loss: 1.410\n",
      "[3,  2000] loss: 1.300\n",
      "[3,  4000] loss: 1.321\n",
      "[3,  6000] loss: 1.309\n",
      "[3,  8000] loss: 1.309\n",
      "[3, 10000] loss: 1.306\n",
      "[3, 12000] loss: 1.308\n",
      "[4,  2000] loss: 1.193\n",
      "[4,  4000] loss: 1.232\n",
      "[4,  6000] loss: 1.216\n",
      "[4,  8000] loss: 1.238\n",
      "[4, 10000] loss: 1.213\n",
      "[4, 12000] loss: 1.225\n",
      "[5,  2000] loss: 1.125\n",
      "[5,  4000] loss: 1.136\n",
      "[5,  6000] loss: 1.132\n",
      "[5,  8000] loss: 1.119\n",
      "[5, 10000] loss: 1.169\n",
      "[5, 12000] loss: 1.154\n",
      "[6,  2000] loss: 1.031\n",
      "[6,  4000] loss: 1.052\n",
      "[6,  6000] loss: 1.064\n",
      "[6,  8000] loss: 1.066\n",
      "[6, 10000] loss: 1.081\n",
      "[6, 12000] loss: 1.112\n",
      "[7,  2000] loss: 0.940\n",
      "[7,  4000] loss: 0.980\n",
      "[7,  6000] loss: 1.001\n",
      "[7,  8000] loss: 0.993\n",
      "[7, 10000] loss: 1.033\n",
      "[7, 12000] loss: 1.037\n",
      "[8,  2000] loss: 0.894\n",
      "[8,  4000] loss: 0.880\n",
      "[8,  6000] loss: 0.932\n",
      "[8,  8000] loss: 0.949\n",
      "[8, 10000] loss: 0.940\n",
      "[8, 12000] loss: 0.982\n",
      "[9,  2000] loss: 0.811\n",
      "[9,  4000] loss: 0.848\n",
      "[9,  6000] loss: 0.877\n",
      "[9,  8000] loss: 0.885\n",
      "[9, 10000] loss: 0.875\n",
      "[9, 12000] loss: 0.915\n",
      "[10,  2000] loss: 0.738\n",
      "[10,  4000] loss: 0.773\n",
      "[10,  6000] loss: 0.805\n",
      "[10,  8000] loss: 0.828\n",
      "[10, 10000] loss: 0.829\n",
      "[10, 12000] loss: 0.855\n",
      "Finished Training\n"
     ]
    }
   ],
   "source": [
    "# Train the model\n",
    "for epoch in range(10):\n",
    "    running_loss = 0.0\n",
    "    for i, data in enumerate(trainloader, 0):\n",
    "        inputs, labels = data\n",
    "        inputs, labels = inputs.to(device), labels.to(device)\n",
    "\n",
    "        optimizer.zero_grad()\n",
    "        outputs = net(inputs)\n",
    "        loss = criterion(outputs, labels)\n",
    "        loss.backward()\n",
    "        optimizer.step()\n",
    "\n",
    "        running_loss += loss.item()\n",
    "        if i % 2000 == 1999:\n",
    "            print(f'[{epoch + 1}, {i + 1:5d}] loss: {running_loss / 2000:.3f}')\n",
    "            running_loss = 0.0\n",
    "\n",
    "print('Finished Training')"
   ]
  },
  {
   "cell_type": "code",
   "execution_count": 8,
   "id": "77d79b2d",
   "metadata": {},
   "outputs": [],
   "source": [
    "torch.save(net.state_dict(), 'cifar_nn_model.pth')"
   ]
  },
  {
   "cell_type": "code",
   "execution_count": 9,
   "id": "7c29fe5b",
   "metadata": {},
   "outputs": [
    {
     "name": "stdout",
     "output_type": "stream",
     "text": [
      "Accuracy of the network on the 10000 test images: 53.72%\n"
     ]
    }
   ],
   "source": [
    "# Evaluate the model on the test dataset\n",
    "correct = 0\n",
    "total = 0\n",
    "with torch.no_grad():\n",
    "    for data in testloader:\n",
    "        inputs, labels = data\n",
    "        inputs, labels = inputs.to(device), labels.to(device)\n",
    "        outputs = net(inputs)\n",
    "        _, predicted = torch.max(outputs.data, 1)\n",
    "        total += labels.size(0)\n",
    "        correct += (predicted == labels).sum().item()\n",
    "\n",
    "print(f'Accuracy of the network on the 10000 test images: {100 * correct / total:.2f}%')"
   ]
  },
  {
   "cell_type": "code",
   "execution_count": 10,
   "id": "6902b959",
   "metadata": {},
   "outputs": [],
   "source": [
    "import cv2\n",
    "import matplotlib.pyplot as plt"
   ]
  },
  {
   "cell_type": "code",
   "execution_count": 12,
   "id": "7a626ef7",
   "metadata": {},
   "outputs": [
    {
     "data": {
      "text/plain": [
       "<All keys matched successfully>"
      ]
     },
     "execution_count": 12,
     "metadata": {},
     "output_type": "execute_result"
    }
   ],
   "source": [
    "# Create an instance of 'Net' and move it to the same device as the original model\n",
    "loaded_net = Net().to(device)\n",
    "\n",
    "# Load the saved state dictionary\n",
    "checkpoint = torch.load('cifar_nn_model.pth')\n",
    "\n",
    "# Load the state dictionary into 'Net'\n",
    "loaded_net.load_state_dict(checkpoint)"
   ]
  },
  {
   "cell_type": "code",
   "execution_count": 23,
   "id": "be7b384d",
   "metadata": {},
   "outputs": [
    {
     "name": "stdout",
     "output_type": "stream",
     "text": [
      "torch.Size([1, 3, 32, 32])\n"
     ]
    },
    {
     "data": {
      "image/png": "[encoded data removed]",
      "text/plain": [
       "<Figure size 640x480 with 1 Axes>"
      ]
     },
     "metadata": {},
     "output_type": "display_data"
    }
   ],
   "source": [
    "image = cv2.imread(\"./images/cifar_img1.png\")\n",
    "image = cv2.cvtColor(image, cv2.COLOR_BGR2RGB)\n",
    "\n",
    "transform = transforms.Compose([\n",
    "    transforms.ToPILImage(),\n",
    "    transforms.Resize((32, 32)),  # Resize the image to match the model's input size\n",
    "    transforms.ToTensor(),\n",
    "])\n",
    "\n",
    "input_image = transform(image)\n",
    "input_image = input_image.unsqueeze(0)  # Add a batch dimension\n",
    "input_image = input_image.to(device)# Move the input to the GPU if available\n",
    "\n",
    "with torch.no_grad():\n",
    "    outputs = loaded_net(input_image)  # Unsqueeze to add batch dimension\n",
    "_, predicted = torch.max(outputs, 1)\n",
    "\n",
    "predicted_class = classes[predicted.item()]\n",
    "\n",
    "# Get the prediction confidence\n",
    "confidence = torch.softmax(outputs, dim=1)[0][predicted.item()].item()\n",
    "\n",
    "# # Show the image and prediction\n",
    "plt.imshow(image)\n",
    "plt.title(f'Predicted Class: {predicted_class}\\nConfidence: {confidence:.2f}')\n",
    "plt.axis('off')\n",
    "plt.show()"
   ]
  },
  {
   "cell_type": "code",
   "execution_count": 24,
   "id": "0c470ae8",
   "metadata": {},
   "outputs": [
    {
     "data": {
      "image/png": "[encoded data removed]",
      "text/plain": [
       "<Figure size 640x480 with 1 Axes>"
      ]
     },
     "metadata": {},
     "output_type": "display_data"
    }
   ],
   "source": [
    "image = cv2.imread(\"./images/cifar_img2.png\")\n",
    "image = cv2.cvtColor(image, cv2.COLOR_BGR2RGB)\n",
    "\n",
    "transform = transforms.Compose([\n",
    "    transforms.ToPILImage(),\n",
    "    transforms.Resize((32, 32)),  # Resize the image to match the model's input size\n",
    "    transforms.ToTensor(),\n",
    "])\n",
    "\n",
    "input_image = transform(image)\n",
    "input_image = input_image.unsqueeze(0)  # Add a batch dimension\n",
    "input_image = input_image.to(device)# Move the input to the GPU if available\n",
    "\n",
    "with torch.no_grad():\n",
    "    outputs = loaded_net(input_image)  # Unsqueeze to add batch dimension\n",
    "_, predicted = torch.max(outputs, 1)\n",
    "\n",
    "predicted_class = classes[predicted.item()]\n",
    "\n",
    "# Get the prediction confidence\n",
    "confidence = torch.softmax(outputs, dim=1)[0][predicted.item()].item()\n",
    "\n",
    "# # Show the image and prediction\n",
    "plt.imshow(image)\n",
    "plt.title(f'Predicted Class: {predicted_class}\\nConfidence: {confidence:.2f}')\n",
    "plt.axis('off')\n",
    "plt.show()"
   ]
  },
  {
   "cell_type": "code",
   "execution_count": 25,
   "id": "adfb979e",
   "metadata": {},
   "outputs": [
    {
     "data": {
      "image/png": "[encoded data removed]",
      "text/plain": [
       "<Figure size 640x480 with 1 Axes>"
      ]
     },
     "metadata": {},
     "output_type": "display_data"
    }
   ],
   "source": [
    "image = cv2.imread(\"./images/cifar_img3.png\")\n",
    "image = cv2.cvtColor(image, cv2.COLOR_BGR2RGB)\n",
    "\n",
    "transform = transforms.Compose([\n",
    "    transforms.ToPILImage(),\n",
    "    transforms.Resize((32, 32)),  # Resize the image to match the model's input size\n",
    "    transforms.ToTensor(),\n",
    "])\n",
    "\n",
    "input_image = transform(image)\n",
    "input_image = input_image.unsqueeze(0)  # Add a batch dimension\n",
    "input_image = input_image.to(device)# Move the input to the GPU if available\n",
    "\n",
    "with torch.no_grad():\n",
    "    outputs = loaded_net(input_image)  # Unsqueeze to add batch dimension\n",
    "_, predicted = torch.max(outputs, 1)\n",
    "\n",
    "predicted_class = classes[predicted.item()]\n",
    "\n",
    "# Get the prediction confidence\n",
    "confidence = torch.softmax(outputs, dim=1)[0][predicted.item()].item()\n",
    "\n",
    "# # Show the image and prediction\n",
    "plt.imshow(image)\n",
    "plt.title(f'Predicted Class: {predicted_class}\\nConfidence: {confidence:.2f}')\n",
    "plt.axis('off')\n",
    "plt.show()"
   ]
  },
  {
   "cell_type": "code",
   "execution_count": null,
   "id": "26a264f8",
   "metadata": {},
   "outputs": [],
   "source": []
  }
 ],
 "metadata": {
  "kernelspec": {
   "display_name": "Python 3 (ipykernel)",
   "language": "python",
   "name": "python3"
  },
  "language_info": {
   "codemirror_mode": {
    "name": "ipython",
    "version": 3
   },
   "file_extension": ".py",
   "mimetype": "text/x-python",
   "name": "python",
   "nbconvert_exporter": "python",
   "pygments_lexer": "ipython3",
   "version": "3.8.10"
  }
 },
 "nbformat": 4,
 "nbformat_minor": 5
}
