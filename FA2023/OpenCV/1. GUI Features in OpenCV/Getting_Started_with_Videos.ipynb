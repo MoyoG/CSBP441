{
 "cells": [
  {
   "cell_type": "markdown",
   "metadata": {},
   "source": [
    "Import Libraries"
   ]
  },
  {
   "cell_type": "code",
   "execution_count": 1,
   "metadata": {},
   "outputs": [],
   "source": [
    "import numpy as np\n",
    "import cv2 as cv\n",
    "import time"
   ]
  },
  {
   "cell_type": "markdown",
   "metadata": {},
   "source": [
    "Capture Video from Camera"
   ]
  },
  {
   "cell_type": "code",
   "execution_count": 2,
   "metadata": {},
   "outputs": [],
   "source": [
    "cap = cv.VideoCapture(0)\n",
    "if not cap.isOpened():\n",
    " print(\"Cannot open camera\")\n",
    " exit()\n",
    "while True:\n",
    " # Capture frame-by-frame\n",
    " ret, frame = cap.read()\n",
    " # if frame is read correctly ret is True\n",
    " if not ret:\n",
    "    print(\"Can't receive frame (stream end?). Exiting ...\")\n",
    "    break\n",
    " # Our operations on the frame come here\n",
    " gray = cv.cvtColor(frame, cv.COLOR_BGR2GRAY)\n",
    " # Display the resulting frame\n",
    " cv.imshow('frame', gray)\n",
    " if cv.waitKey(1) == ord('q'):\n",
    "    break\n",
    "# When everything done, release the capture\n",
    "cap.release()\n",
    "cv.destroyAllWindows()"
   ]
  },
  {
   "cell_type": "markdown",
   "metadata": {},
   "source": [
    "Saving a Video"
   ]
  },
  {
   "cell_type": "code",
   "execution_count": 3,
   "metadata": {},
   "outputs": [],
   "source": [
    "cap = cv.VideoCapture(0)\n",
    "# Define the codec and create VideoWriter object\n",
    "fourcc = cv.VideoWriter_fourcc(*'XVID')\n",
    "out = cv.VideoWriter('../images/output.avi', fourcc, 30.0, (640, 480))\n",
    "while cap.isOpened():\n",
    " ret, frame = cap.read()\n",
    " if not ret:\n",
    "    print(\"Can't receive frame (stream end?). Exiting ...\")\n",
    "    break\n",
    " #frame = cv.flip(frame, 0)\n",
    " # write the flipped frame\n",
    " out.write(frame)\n",
    " cv.imshow('frame', frame)\n",
    " if cv.waitKey(1) == ord('q'):\n",
    "    break\n",
    "# Release everything if job is finished\n",
    "cap.release()\n",
    "out.release()\n",
    "cv.destroyAllWindows()"
   ]
  },
  {
   "cell_type": "markdown",
   "metadata": {},
   "source": [
    "Playing Video from file"
   ]
  },
  {
   "cell_type": "code",
   "execution_count": 4,
   "metadata": {},
   "outputs": [
    {
     "name": "stdout",
     "output_type": "stream",
     "text": [
      "Can't receive frame (stream end?). Exiting ...\n"
     ]
    }
   ],
   "source": [
    "cap = cv.VideoCapture('../images/output.avi')\n",
    "fps= int(cap.get(cv.CAP_PROP_FPS))\n",
    "\n",
    "while cap.isOpened():\n",
    "   ret, frame = cap.read()\n",
    "   # if frame is read correctly ret is True\n",
    "   if not ret:\n",
    "      print(\"Can't receive frame (stream end?). Exiting ...\")\n",
    "      break\n",
    "   gray = cv.cvtColor(frame, cv.COLOR_BGR2GRAY)\n",
    "   time.sleep(0.5/fps)\n",
    "   cv.imshow('frame', gray)\n",
    "   if cv.waitKey(1) == ord('q'):\n",
    "      break\n",
    "cap.release()\n",
    "cv.destroyAllWindows()"
   ]
  },
  {
   "cell_type": "code",
   "execution_count": null,
   "metadata": {},
   "outputs": [],
   "source": []
  }
 ],
 "metadata": {
  "kernelspec": {
   "display_name": ".opencvEnv",
   "language": "python",
   "name": "python3"
  },
  "language_info": {
   "codemirror_mode": {
    "name": "ipython",
    "version": 3
   },
   "file_extension": ".py",
   "mimetype": "text/x-python",
   "name": "python",
   "nbconvert_exporter": "python",
   "pygments_lexer": "ipython3",
   "version": "3.9.0"
  },
  "orig_nbformat": 4
 },
 "nbformat": 4,
 "nbformat_minor": 2
}
